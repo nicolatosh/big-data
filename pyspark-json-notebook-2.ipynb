{
 "cells": [
  {
   "cell_type": "markdown",
   "metadata": {},
   "source": [
    "#### https://sparkbyexamples.com/pyspark/python-no-module-named-pyspark-error/\n",
    "#### https://spark.apache.org/docs/latest/sql-data-sources-json.html"
   ]
  },
  {
   "cell_type": "code",
   "execution_count": 2,
   "metadata": {},
   "outputs": [],
   "source": [
    "from pyspark.sql import SparkSession"
   ]
  },
  {
   "cell_type": "code",
   "execution_count": 3,
   "metadata": {},
   "outputs": [],
   "source": [
    "spark = SparkSession \\\n",
    "    .builder \\\n",
    "    .appName(\"Spark_json_test1\") \\\n",
    "    .getOrCreate()"
   ]
  },
  {
   "cell_type": "code",
   "execution_count": 4,
   "metadata": {},
   "outputs": [
    {
     "data": {
      "text/html": [
       "\n",
       "            <div>\n",
       "                <p><b>SparkSession - in-memory</b></p>\n",
       "                \n",
       "        <div>\n",
       "            <p><b>SparkContext</b></p>\n",
       "\n",
       "            <p><a href=\"http://host.docker.internal:4040\">Spark UI</a></p>\n",
       "\n",
       "            <dl>\n",
       "              <dt>Version</dt>\n",
       "                <dd><code>v3.1.2</code></dd>\n",
       "              <dt>Master</dt>\n",
       "                <dd><code>local[*]</code></dd>\n",
       "              <dt>AppName</dt>\n",
       "                <dd><code>Spark_json_test1</code></dd>\n",
       "            </dl>\n",
       "        </div>\n",
       "        \n",
       "            </div>\n",
       "        "
      ],
      "text/plain": [
       "<pyspark.sql.session.SparkSession at 0x1df769f1dc0>"
      ]
     },
     "execution_count": 4,
     "metadata": {},
     "output_type": "execute_result"
    }
   ],
   "source": [
    "spark"
   ]
  },
  {
   "cell_type": "markdown",
   "metadata": {},
   "source": [
    "### Load json file of transactions"
   ]
  },
  {
   "cell_type": "code",
   "execution_count": 13,
   "metadata": {},
   "outputs": [
    {
     "name": "stdout",
     "output_type": "stream",
     "text": [
      "+--------------------+-----------+------+--------------------+--------------------+-------+\n",
      "|           client_id|fidaty_card|  name|        product_list|       products_list|surname|\n",
      "+--------------------+-----------+------+--------------------+--------------------+-------+\n",
      "|b3667dab-fead-438...|       True|giulia|                null|{Rizzoli, filetti...|bianchi|\n",
      "|1422cc9e-5c31-436...|       True| mario|{Taylors of Harro...|                null|foscolo|\n",
      "+--------------------+-----------+------+--------------------+--------------------+-------+\n",
      "\n"
     ]
    }
   ],
   "source": [
    "multiline_df = spark.read.option(\"multiline\",\"true\") \\\n",
    "      .json(\"C:\\Anna\\Data science\\Big Data\\Big Data Lab\\Transactions_example3.json\")\n",
    "multiline_df.show()   "
   ]
  },
  {
   "cell_type": "code",
   "execution_count": 14,
   "metadata": {},
   "outputs": [
    {
     "name": "stdout",
     "output_type": "stream",
     "text": [
      "root\n",
      " |-- client_id: string (nullable = true)\n",
      " |-- fidaty_card: string (nullable = true)\n",
      " |-- name: string (nullable = true)\n",
      " |-- product_list: struct (nullable = true)\n",
      " |    |-- description: string (nullable = true)\n",
      " |    |-- price: string (nullable = true)\n",
      " |    |-- upc: string (nullable = true)\n",
      " |-- products_list: struct (nullable = true)\n",
      " |    |-- description: string (nullable = true)\n",
      " |    |-- price: double (nullable = true)\n",
      " |    |-- upc: string (nullable = true)\n",
      " |-- surname: string (nullable = true)\n",
      "\n"
     ]
    }
   ],
   "source": [
    "multiline_df.printSchema()"
   ]
  },
  {
   "cell_type": "code",
   "execution_count": 17,
   "metadata": {},
   "outputs": [
    {
     "name": "stdout",
     "output_type": "stream",
     "text": [
      "+--------------------+\n",
      "|       products_list|\n",
      "+--------------------+\n",
      "|{Rizzoli, filetti...|\n",
      "|                null|\n",
      "+--------------------+\n",
      "\n"
     ]
    }
   ],
   "source": [
    "##Making a query test using spark commands\n",
    "multiline_df.select('products_list').show()"
   ]
  }
 ],
 "metadata": {
  "kernelspec": {
   "display_name": "Python 3.8.8 ('base')",
   "language": "python",
   "name": "python3"
  },
  "language_info": {
   "codemirror_mode": {
    "name": "ipython",
    "version": 3
   },
   "file_extension": ".py",
   "mimetype": "text/x-python",
   "name": "python",
   "nbconvert_exporter": "python",
   "pygments_lexer": "ipython3",
   "version": "3.8.8"
  },
  "orig_nbformat": 4,
  "vscode": {
   "interpreter": {
    "hash": "d5a060a823ebfc0a46fed09e5d4d49b6552270a7dac258bcadf0308cb8ded9d9"
   }
  }
 },
 "nbformat": 4,
 "nbformat_minor": 2
}
